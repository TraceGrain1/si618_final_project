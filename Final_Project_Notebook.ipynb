{
 "cells": [
  {
   "cell_type": "markdown",
   "metadata": {},
   "source": [
    "# SI 618 Final Project Notebook"
   ]
  },
  {
   "cell_type": "markdown",
   "metadata": {},
   "source": [
    "### Project Description\n",
    "\n",
    "Our team is interested in understanding hotel booking trends to provide business insights for management and stakeholder groups.\n",
    "\n",
    "Primary Question:\n",
    "How can we use the hotel bookings data to improve business operations through prediction of guest cancellation?\n",
    "\n",
    "Our goal is to inform hotel management, stakeholders, tourism sector the following:\n",
    "* Data driven customer segmentation / clusters\n",
    "    * Top Customer Profiles\n",
    "    * Demographic Information\n",
    "    * Positioning for Key Performance amongst customers\n",
    "* Booking cancellation trends amongst hotel guests\n",
    "    * Cancellation prediction based on historical data\n",
    "    * Human interpretability around cancellation classification\n",
    "    * Define potential strategic goals based on operational objectives (e.g., Accuracy, Precision, Sensitivity / Recall, Specificity)\n"
   ]
  },
  {
   "cell_type": "markdown",
   "metadata": {},
   "source": [
    "#### Import and load libraries"
   ]
  },
  {
   "cell_type": "code",
   "execution_count": 1,
   "metadata": {},
   "outputs": [],
   "source": [
    "# Load in libraries\n",
    "import pandas as pd"
   ]
  },
  {
   "cell_type": "markdown",
   "metadata": {},
   "source": [
    "#### Load in the data"
   ]
  },
  {
   "cell_type": "code",
   "execution_count": null,
   "metadata": {},
   "outputs": [],
   "source": [
    "# "
   ]
  }
 ],
 "metadata": {
  "kernelspec": {
   "display_name": "Python 3",
   "language": "python",
   "name": "python3"
  },
  "language_info": {
   "codemirror_mode": {
    "name": "ipython",
    "version": 3
   },
   "file_extension": ".py",
   "mimetype": "text/x-python",
   "name": "python",
   "nbconvert_exporter": "python",
   "pygments_lexer": "ipython3",
   "version": "3.10.11"
  }
 },
 "nbformat": 4,
 "nbformat_minor": 2
}
